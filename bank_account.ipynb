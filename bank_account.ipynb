{
 "cells": [
  {
   "cell_type": "code",
   "execution_count": 42,
   "metadata": {},
   "outputs": [],
   "source": [
    "import pandas as pd\n",
    "data=pd.read_csv('Train_v2.csv')\n",
    "test=pd.read_csv('Test_v2.csv')"
   ]
  },
  {
   "cell_type": "code",
   "execution_count": 43,
   "metadata": {},
   "outputs": [
    {
     "name": "stdout",
     "output_type": "stream",
     "text": [
      "(23524, 11)\n",
      "(23524,)\n"
     ]
    }
   ],
   "source": [
    "target=data['bank_account']\n",
    "train_features = data.drop(['bank_account','uniqueid'],axis=1)\n",
    "print(train_features.shape)\n",
    "print(target.shape)"
   ]
  },
  {
   "cell_type": "code",
   "execution_count": 44,
   "metadata": {},
   "outputs": [],
   "source": [
    "from sklearn.model_selection import train_test_split"
   ]
  },
  {
   "cell_type": "code",
   "execution_count": 45,
   "metadata": {},
   "outputs": [],
   "source": [
    "X_train, X_test, y_train, y_test = train_test_split(train_features, target, test_size=0.25, random_state=0)"
   ]
  },
  {
   "cell_type": "code",
   "execution_count": 46,
   "metadata": {},
   "outputs": [],
   "source": [
    "import pandas as pd\n",
    "import numpy as np\n",
    "y_train=pd.Series(np.where(y_train.values=='Yes',1,0),y_train.index)\n",
    "y_test=pd.Series(np.where(y_test.values=='Yes',1,0),y_test.index)"
   ]
  },
  {
   "cell_type": "code",
   "execution_count": 47,
   "metadata": {},
   "outputs": [],
   "source": [
    "features = pd.concat([X_train, X_test]).reset_index(drop=True)\n",
    "features= pd.get_dummies(features).reset_index(drop=True)"
   ]
  },
  {
   "cell_type": "code",
   "execution_count": 48,
   "metadata": {},
   "outputs": [],
   "source": [
    "features=pd.DataFrame(features)\n",
    "X_train= features.iloc[:len(y_train), :]\n",
    "X_test=features.iloc[len(y_train):, :]"
   ]
  },
  {
   "cell_type": "code",
   "execution_count": null,
   "metadata": {},
   "outputs": [],
   "source": [
    "from sklearn.naive_bayes import GaussianNB\n",
    "clf = GaussianNB()\n",
    "clf.fit(X_train, y_train)\n",
    "res=clf.predict(X_test)"
   ]
  },
  {
   "cell_type": "code",
   "execution_count": 49,
   "metadata": {},
   "outputs": [],
   "source": [
    "from sklearn.ensemble import AdaBoostClassifier\n",
    "clf = AdaBoostClassifier(n_estimators=60, random_state=0)\n",
    "clf.fit(X_train, y_train)\n",
    "res=clf.predict(X_test)"
   ]
  },
  {
   "cell_type": "code",
   "execution_count": 37,
   "metadata": {},
   "outputs": [],
   "source": [
    "from sklearn import svm\n",
    "clf = svm.SVC(gamma=0.001,C=0.05,kernel='poly',degree=3)\n",
    "clf.fit(X_train, y_train)\n",
    "res=clf.predict(X_test)"
   ]
  },
  {
   "cell_type": "code",
   "execution_count": 50,
   "metadata": {},
   "outputs": [
    {
     "name": "stdout",
     "output_type": "stream",
     "text": [
      "0.8830130930113926\n"
     ]
    }
   ],
   "source": [
    "score = clf.score(X_test, y_test)\n",
    "print(score)"
   ]
  },
  {
   "cell_type": "code",
   "execution_count": 51,
   "metadata": {},
   "outputs": [],
   "source": [
    "test1 = test.drop(['uniqueid'],axis=1)\n",
    "test1= pd.get_dummies(test1).reset_index(drop=True)"
   ]
  },
  {
   "cell_type": "code",
   "execution_count": 52,
   "metadata": {},
   "outputs": [],
   "source": [
    "result=clf.predict(test1)"
   ]
  },
  {
   "cell_type": "code",
   "execution_count": 53,
   "metadata": {},
   "outputs": [
    {
     "name": "stdout",
     "output_type": "stream",
     "text": [
      "              uniqueid  bank_account\n",
      "0  uniqueid_6056*Kenya             1\n",
      "1  uniqueid_6060*Kenya             1\n",
      "2  uniqueid_6065*Kenya             0\n",
      "3  uniqueid_6072*Kenya             0\n",
      "4  uniqueid_6073*Kenya             0\n",
      "Saved file: Financial2.csv\n"
     ]
    }
   ],
   "source": [
    "submission = pd.DataFrame({'uniqueid':test['uniqueid']+'*'+test['country'],'bank_account':result})\n",
    "#Visualize the first 5 rows\n",
    "print(submission.head())\n",
    "filename = 'Financial2.csv'\n",
    "submission.to_csv(filename,index=False)\n",
    "print('Saved file: ' + filename)"
   ]
  },
  {
   "cell_type": "code",
   "execution_count": 54,
   "metadata": {},
   "outputs": [
    {
     "name": "stdout",
     "output_type": "stream",
     "text": [
      "10086\n"
     ]
    }
   ],
   "source": [
    "s=0\n",
    "for j in submission['bank_account']:\n",
    "    if j==1.0:\n",
    "     s=s+1\n",
    "    else:\n",
    "       if j==0.0:\n",
    "            s=s+1\n",
    "    \n",
    "print(s)   "
   ]
  },
  {
   "cell_type": "code",
   "execution_count": null,
   "metadata": {},
   "outputs": [],
   "source": []
  }
 ],
 "metadata": {
  "kernelspec": {
   "display_name": "Python 3",
   "language": "python",
   "name": "python3"
  },
  "language_info": {
   "codemirror_mode": {
    "name": "ipython",
    "version": 3
   },
   "file_extension": ".py",
   "mimetype": "text/x-python",
   "name": "python",
   "nbconvert_exporter": "python",
   "pygments_lexer": "ipython3",
   "version": "3.7.1"
  }
 },
 "nbformat": 4,
 "nbformat_minor": 2
}
